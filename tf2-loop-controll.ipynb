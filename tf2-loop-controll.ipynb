{
 "cells": [
  {
   "attachments": {},
   "cell_type": "markdown",
   "metadata": {},
   "source": [
    "## TensorFlow2 training loop control using default *tf.fit(...)* function"
   ]
  },
  {
   "attachments": {},
   "cell_type": "markdown",
   "metadata": {},
   "source": [
    "### Task Descripton\n",
    "\n",
    "Up to now custom training loop in Tensorflow2 requires writing two lops:\n",
    "1. loop iterating through epochs \n",
    "2. loop iterating through batches \n",
    "\n",
    "Then all castom training precudere will have to be implemented in these double-loop block of code. It's neither elegant nor robust due to the missing advanced features of *tf.fit(...)*."
   ]
  },
  {
   "cell_type": "code",
   "execution_count": 114,
   "metadata": {},
   "outputs": [],
   "source": [
    "import tensorflow as tf\n",
    "from types import MethodType\n",
    "import functools"
   ]
  },
  {
   "cell_type": "code",
   "execution_count": 115,
   "metadata": {},
   "outputs": [],
   "source": [
    "# class LoopControlableModel(tf.keras.Model):\n",
    "\n",
    "#     def __init__(self, *args, **kwargs):\n",
    "#         super(LoopControlableModel, self).__init__(*args, **kwargs)\n",
    "#         self.gate = tf.Variable(False, trainable=False) # gate control variable\n",
    "    \n",
    "#     @tf.function\n",
    "#     def train_step(self, data):\n",
    "#         train_metrics = tf.cond(\n",
    "#             self.gate, \n",
    "#             lambda: self.train_step_active(data),\n",
    "#             lambda: self.train_step_passive(data)\n",
    "#         )\n",
    "\n",
    "#         return train_metrics\n",
    "    "
   ]
  },
  {
   "cell_type": "code",
   "execution_count": 116,
   "metadata": {},
   "outputs": [],
   "source": [
    "def assign_to_instance(instance):\n",
    "    def decorator_assign_to_instance(func):\n",
    "        @functools.wraps(func)\n",
    "        def wrapper_assign_to_instance(*args, **kwargs):\n",
    "            \"\"\"consider funciton scope as now its functools.partial\n",
    "            functools.update_wrapper(tf.function, functools.partial(func, *args_, **kwargs))\n",
    "            \"\"\"\n",
    "            args = (instance,) + args\n",
    "            setattr(instance, func.__name__, functools.partial(func, *args, **kwargs))\n",
    "            return\n",
    "        return wrapper_assign_to_instance\n",
    "    return decorator_assign_to_instance"
   ]
  },
  {
   "cell_type": "code",
   "execution_count": 125,
   "metadata": {},
   "outputs": [],
   "source": [
    "class LoopControlerCallback(tf.keras.callbacks.Callback):\n",
    "\n",
    "    def __init__(self, gating_frequency: int, *args, **kwargs) -> None:\n",
    "        super(LoopControlerCallback, self).__init__(*args, **kwargs)\n",
    "        self.gating_frequency = gating_frequency\n",
    "\n",
    "    def on_train_begin(self, logs = None):\n",
    "        \n",
    "        self.model.gate = tf.Variable(False, trainable=False) # gate control variable\n",
    "\n",
    "        @assign_to_instance(self.model)\n",
    "        @tf.function\n",
    "        def train_step(self, data):\n",
    "            train_metrics = tf.cond(\n",
    "                self.gate, \n",
    "                lambda: self.train_step_active(data),\n",
    "                lambda: self.train_step_passive(data)\n",
    "            )\n",
    "\n",
    "            return train_metrics \n",
    "\n",
    "        @assign_to_instance(self.model)\n",
    "        @tf.function\n",
    "        def train_step_active(self, data):\n",
    "            x, y = data\n",
    "            with tf.GradientTape(watch_accessed_variables=True) as tape:\n",
    "                logits = self(x, training=True)\n",
    "                loss_value = self.compiled_loss(y, logits)\n",
    "            grads = tape.gradient(loss_value, tape.watched_variables())\n",
    "            self.optimizer.apply_gradients(zip(grads, tape.watched_variables()))\n",
    "            return {**{m.name: m.result() for m in self.metrics}, **{\"active\": True, \"passive\": False}}\n",
    "\n",
    "        @assign_to_instance(self.model)\n",
    "        @tf.function\n",
    "        def train_step_passive(self, data):\n",
    "            x, y = data\n",
    "            with tf.GradientTape(watch_accessed_variables=True) as tape:\n",
    "                logits = self(x, training=True)\n",
    "                loss_value = self.compiled_loss(y, logits)\n",
    "            grads = tape.gradient(loss_value, tape.watched_variables())\n",
    "            self.optimizer.apply_gradients(zip(grads, tape.watched_variables()))\n",
    "            return {**{m.name: m.result() for m in self.metrics}, **{\"active\": False, \"passive\": True}}\n",
    "            \n",
    "        train_step()\n",
    "        train_step_active()\n",
    "        train_step_passive()\n",
    "\n",
    "\n",
    "    def on_epoch_end(self, epoch, logs):\n",
    "        \"\"\"Control gating variable from the level of callback which can work on epoch/batch level.\"\"\"\n",
    "        # tf.variable.assign is different than tf.variable = <sth>. The second option is compiled to static\n",
    "        # value in TF graph of computation as the result of @tf.function decorators in LoopControlableModel\n",
    "        self.model.gate.assign(epoch % self.gating_frequency == 0)"
   ]
  },
  {
   "cell_type": "code",
   "execution_count": 130,
   "metadata": {},
   "outputs": [
    {
     "name": "stdout",
     "output_type": "stream",
     "text": [
      "Epoch 1/4\n",
      "16/16 [==============================] - 1s 2ms/step - loss: 0.8167 - active: 0.0000e+00 - passive: 1.0000\n",
      "Epoch 2/4\n",
      "16/16 [==============================] - 0s 3ms/step - loss: 0.4088 - active: 1.0000 - passive: 0.0000e+00\n",
      "Epoch 3/4\n",
      "16/16 [==============================] - 0s 3ms/step - loss: 0.2447 - active: 0.0000e+00 - passive: 1.0000\n",
      "Epoch 4/4\n",
      "16/16 [==============================] - 0s 3ms/step - loss: 0.1841 - active: 1.0000 - passive: 0.0000e+00\n"
     ]
    }
   ],
   "source": [
    "DATASET_SIZE, INPUT_SIZE, OUTPUT_SIZE = 1000, 2, 1\n",
    "BATCH_SIZE = 64\n",
    "data = tf.data.Dataset.from_tensor_slices(\n",
    "    (tf.random.uniform((DATASET_SIZE, INPUT_SIZE)), tf.random.uniform((DATASET_SIZE, OUTPUT_SIZE)))\n",
    "    ).batch(BATCH_SIZE)\n",
    "\n",
    "\n",
    "model = tf.keras.Sequential([tf.keras.layers.Dense(OUTPUT_SIZE)])\n",
    "\n",
    "# compile model\n",
    "model.compile(optimizer=\n",
    "    tf.keras.optimizers.RMSprop(learning_rate=0.01),\n",
    "    loss=\"mse\", \n",
    "    metrics=[\"mae\"])\n",
    "\n",
    "# start training\n",
    "history = model.fit(data, epochs = 4, verbose = 1,\n",
    "    callbacks=[LoopControlerCallback(2)])"
   ]
  },
  {
   "cell_type": "code",
   "execution_count": null,
   "metadata": {},
   "outputs": [],
   "source": []
  },
  {
   "cell_type": "code",
   "execution_count": null,
   "metadata": {},
   "outputs": [],
   "source": []
  }
 ],
 "metadata": {
  "kernelspec": {
   "display_name": "venv",
   "language": "python",
   "name": "python3"
  },
  "language_info": {
   "codemirror_mode": {
    "name": "ipython",
    "version": 3
   },
   "file_extension": ".py",
   "mimetype": "text/x-python",
   "name": "python",
   "nbconvert_exporter": "python",
   "pygments_lexer": "ipython3",
   "version": "3.8.10"
  },
  "orig_nbformat": 4,
  "vscode": {
   "interpreter": {
    "hash": "c6b4ff1917ad7fe489d902c3041fcac2959f3e2431a3acc02677f15f306757aa"
   }
  }
 },
 "nbformat": 4,
 "nbformat_minor": 2
}
