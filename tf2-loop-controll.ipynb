{
 "cells": [
  {
   "attachments": {},
   "cell_type": "markdown",
   "metadata": {},
   "source": [
    "## TensorFlow2 training loop control using default *tf.fit(...)* function"
   ]
  },
  {
   "attachments": {},
   "cell_type": "markdown",
   "metadata": {},
   "source": [
    "### Task Descripton\n",
    "\n",
    "Up to now custom training loop in Tensorflow2 requires writing two lops:\n",
    "1. loop iterating through epochs \n",
    "2. loop iterating through batches \n",
    "\n",
    "Then all castom training precudere will have to be implemented in these double-loop block of code. It's neither elegant nor robust due to the missing advanced features of *tf.fit(...)*."
   ]
  },
  {
   "cell_type": "code",
   "execution_count": 3,
   "metadata": {},
   "outputs": [
    {
     "name": "stderr",
     "output_type": "stream",
     "text": [
      "2023-01-30 22:16:27.643002: W tensorflow/stream_executor/platform/default/dso_loader.cc:64] Could not load dynamic library 'libcudart.so.11.0'; dlerror: libcudart.so.11.0: cannot open shared object file: No such file or directory\n",
      "2023-01-30 22:16:27.643031: I tensorflow/stream_executor/cuda/cudart_stub.cc:29] Ignore above cudart dlerror if you do not have a GPU set up on your machine.\n"
     ]
    }
   ],
   "source": [
    "import tensorflow as tf\n",
    "from types import MethodType\n",
    "import functools"
   ]
  },
  {
   "cell_type": "code",
   "execution_count": 4,
   "metadata": {},
   "outputs": [],
   "source": [
    "def bind(instance, func, as_name=None):\n",
    "    \"\"\"\n",
    "    Bind the function *func* to *instance*, with either provided name *as_name*\n",
    "    or the existing name of *func*. The provided *func* should accept the \n",
    "    instance as the first argument, i.e. \"self\".\n",
    "    \"\"\"\n",
    "    if as_name is None:\n",
    "        as_name = func.__name__\n",
    "    bound_method = func.__get__(instance, instance.__class__)\n",
    "    setattr(instance, as_name, bound_method)\n",
    "    return bound_method\n"
   ]
  },
  {
   "cell_type": "code",
   "execution_count": 83,
   "metadata": {},
   "outputs": [],
   "source": [
    "class LoopControlerCallback(tf.keras.callbacks.Callback):\n",
    "    def __init__(self, config: int, *args, **kwargs) -> None:\n",
    "        super(LoopControlerCallback, self).__init__(*args, **kwargs)\n",
    "        self.config = config\n",
    "\n",
    "    def on_train_begin(self, logs=None):\n",
    "\n",
    "        # self.model.gate = tf.Variable(False, trainable=False) # gate control variable\n",
    "        self.epochs = 0\n",
    "        self.steps = 0\n",
    "\n",
    "        @tf.function\n",
    "        def train_step(self, data):\n",
    "            train_metrics = tf.cond(\n",
    "                self.gate, lambda: self.gate_on(data), lambda: self.gate_off(data)\n",
    "            )\n",
    "\n",
    "            final_results = {\n",
    "                **train_metrics,\n",
    "                **{\n",
    "                    c_name: tf.cond(\n",
    "                        getattr(self, c_name),\n",
    "                        lambda: tf.constant(True),\n",
    "                        lambda: tf.constant(False),\n",
    "                    )\n",
    "                    for c_name in self.control_variables_names\n",
    "                },\n",
    "            }\n",
    "\n",
    "            return final_results\n",
    "\n",
    "        @tf.function\n",
    "        def gate_on(self, data):\n",
    "            x, y = data\n",
    "            with tf.GradientTape(watch_accessed_variables=True) as tape:\n",
    "                logits = self(x, training=True)\n",
    "                loss_value = self.compiled_loss(y, logits)\n",
    "            grads = tape.gradient(loss_value, tape.watched_variables())\n",
    "            self.optimizer.apply_gradients(zip(grads, tape.watched_variables()))\n",
    "            return {m.name: m.result() for m in self.metrics}\n",
    "            \n",
    "\n",
    "        @tf.function\n",
    "        def gate_off(self, data):\n",
    "            x, y = data\n",
    "            with tf.GradientTape(watch_accessed_variables=True) as tape:\n",
    "                logits = self(x, training=True)\n",
    "                loss_value = self.compiled_loss(y, logits)\n",
    "            grads = tape.gradient(loss_value, tape.watched_variables())\n",
    "            self.optimizer.apply_gradients(zip(grads, tape.watched_variables()))\n",
    "            return {m.name: m.result() for m in self.metrics}\n",
    "\n",
    "            \n",
    "        bind(self.model, train_step)\n",
    "        bind(self.model, gate_on)\n",
    "        bind(self.model, gate_off)\n",
    "\n",
    "        self.set_control_variables()\n",
    "        self.set_conditions()\n",
    "\n",
    "    def __transform_cond_name__(self, action_name):\n",
    "        return f\"{action_name}_variable_control\"\n",
    "\n",
    "    def set_control_variables(self):\n",
    "        self.model.control_variables_names = []\n",
    "        for control_variable_name in self.config.keys():\n",
    "            setattr(\n",
    "                self.model, control_variable_name, tf.Variable(False, trainable=False)\n",
    "            )\n",
    "            self.model.control_variables_names.append(control_variable_name)\n",
    "\n",
    "    # def set_control_steps(self):\n",
    "    #     for\n",
    "\n",
    "    def set_conditions(self):\n",
    "        self.all_control_cond = {}\n",
    "        for action_name, action_config in self.config.items():\n",
    "            name = self.__transform_cond_name__(action_name)\n",
    "            print(f\"Biding for {action_name} in {name}\")\n",
    "            bind(self, action_config[\"cond\"], name)\n",
    "            self.all_control_cond[action_name] = name\n",
    "\n",
    "    def on_epoch_end(self, epoch, logs):\n",
    "        self.epochs += 1\n",
    "        \"\"\"Control gating variable from the level of callback which can work on epoch/batch level.\"\"\"\n",
    "        # tf.variable.assign is different than tf.variable = <sth>. The second option is compiled to static\n",
    "        # value in TF graph of computation as the result of @tf.function decorators in LoopControlableModel\n",
    "        for control_name, control_function_name in self.all_control_cond.items():\n",
    "            getattr(self.model, control_name).assign(\n",
    "                getattr(self, control_function_name)()\n",
    "            )"
   ]
  },
  {
   "cell_type": "code",
   "execution_count": 85,
   "metadata": {},
   "outputs": [
    {
     "name": "stdout",
     "output_type": "stream",
     "text": [
      "Biding for gate in gate_variable_control\n",
      "Biding for delay in delay_variable_control\n",
      "Epoch 1/10\n",
      "16/16 [==============================] - 1s 4ms/step - loss: 0.7494 - gate: 0.0000e+00 - delay: 0.0000e+00\n",
      "Epoch 2/10\n",
      "16/16 [==============================] - 0s 4ms/step - loss: 0.3473 - gate: 0.0000e+00 - delay: 0.0000e+00\n",
      "Epoch 3/10\n",
      "16/16 [==============================] - 0s 3ms/step - loss: 0.1884 - gate: 1.0000 - delay: 0.0000e+00\n",
      "Epoch 4/10\n",
      "16/16 [==============================] - 0s 3ms/step - loss: 0.1349 - gate: 0.0000e+00 - delay: 0.0000e+00\n",
      "Epoch 5/10\n",
      "16/16 [==============================] - 0s 5ms/step - loss: 0.1174 - gate: 1.0000 - delay: 1.0000\n",
      "Epoch 6/10\n",
      "16/16 [==============================] - 0s 3ms/step - loss: 0.1047 - gate: 0.0000e+00 - delay: 0.0000e+00\n",
      "Epoch 7/10\n",
      "16/16 [==============================] - 0s 4ms/step - loss: 0.0953 - gate: 1.0000 - delay: 0.0000e+00\n",
      "Epoch 8/10\n",
      "16/16 [==============================] - 0s 3ms/step - loss: 0.0895 - gate: 0.0000e+00 - delay: 0.0000e+00\n",
      "Epoch 9/10\n",
      "16/16 [==============================] - 0s 3ms/step - loss: 0.0866 - gate: 1.0000 - delay: 1.0000\n",
      "Epoch 10/10\n",
      "16/16 [==============================] - 0s 3ms/step - loss: 0.0853 - gate: 0.0000e+00 - delay: 0.0000e+00\n"
     ]
    }
   ],
   "source": [
    "DATASET_SIZE, INPUT_SIZE, OUTPUT_SIZE = 1000, 2, 1\n",
    "BATCH_SIZE = 64\n",
    "data = tf.data.Dataset.from_tensor_slices(\n",
    "    (tf.random.uniform((DATASET_SIZE, INPUT_SIZE)), tf.random.uniform((DATASET_SIZE, OUTPUT_SIZE)))\n",
    "    ).batch(BATCH_SIZE)\n",
    "\n",
    "\n",
    "model = tf.keras.Sequential([tf.keras.layers.Dense(OUTPUT_SIZE)])\n",
    "model.todel = tf.Variable(True)\n",
    "# compile model\n",
    "model.compile(optimizer=\n",
    "    tf.keras.optimizers.RMSprop(learning_rate=0.01),\n",
    "    loss=\"mse\", \n",
    "    metrics=[\"mae\"])\n",
    "\n",
    "\n",
    "def gate_config(self):\n",
    "    return self.epochs % 2 == 0 \n",
    "\n",
    "def delay_config(self):\n",
    "    return self.epochs % 4 == 0 \n",
    "\n",
    "\n",
    "config = {\n",
    "    \"gate\": {\n",
    "        \"cond\": gate_config,\n",
    "        True: {\n",
    "            \"loss\": tf.keras.losses.MeanSquaredError, \n",
    "        },\n",
    "        False: {\n",
    "            \"loss\": tf.keras.losses.MeanAbsoluteError, \n",
    "        }\n",
    "    }, \n",
    "    \"delay\": {\n",
    "        \"cond\": delay_config \n",
    "    }\n",
    "}\n",
    "\n",
    "# start training\n",
    "history = model.fit(data, epochs = 10, verbose = 1,\n",
    "    callbacks=[LoopControlerCallback(config)])"
   ]
  },
  {
   "cell_type": "code",
   "execution_count": null,
   "metadata": {},
   "outputs": [],
   "source": []
  }
 ],
 "metadata": {
  "kernelspec": {
   "display_name": "venv",
   "language": "python",
   "name": "python3"
  },
  "language_info": {
   "codemirror_mode": {
    "name": "ipython",
    "version": 3
   },
   "file_extension": ".py",
   "mimetype": "text/x-python",
   "name": "python",
   "nbconvert_exporter": "python",
   "pygments_lexer": "ipython3",
   "version": "3.8.10"
  },
  "orig_nbformat": 4,
  "vscode": {
   "interpreter": {
    "hash": "c6b4ff1917ad7fe489d902c3041fcac2959f3e2431a3acc02677f15f306757aa"
   }
  }
 },
 "nbformat": 4,
 "nbformat_minor": 2
}
