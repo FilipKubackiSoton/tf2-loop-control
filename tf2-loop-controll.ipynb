{
 "cells": [
  {
   "attachments": {},
   "cell_type": "markdown",
   "metadata": {},
   "source": [
    "## TensorFlow2 training loop control using default *tf.fit(...)* function"
   ]
  },
  {
   "attachments": {},
   "cell_type": "markdown",
   "metadata": {},
   "source": [
    "### Task Descripton\n",
    "\n",
    "Up to now custom training loop in Tensorflow2 requires writing two lops:\n",
    "1. loop iterating through epochs \n",
    "2. loop iterating through batches \n",
    "\n",
    "Then all castom training precudere will have to be implemented in these double-loop block of code. It's neither elegant nor robust due to the missing advanced features of *tf.fit(...)*."
   ]
  },
  {
   "cell_type": "code",
   "execution_count": 92,
   "metadata": {},
   "outputs": [],
   "source": [
    "import tensorflow as tf\n",
    "from types import MethodType\n",
    "import functools"
   ]
  },
  {
   "cell_type": "code",
   "execution_count": 93,
   "metadata": {},
   "outputs": [],
   "source": [
    "def bind(instance, func, as_name=None):\n",
    "    \"\"\"\n",
    "    Bind the function *func* to *instance*, with either provided name *as_name*\n",
    "    or the existing name of *func*. The provided *func* should accept the \n",
    "    instance as the first argument, i.e. \"self\".\n",
    "    \"\"\"\n",
    "    if as_name is None:\n",
    "        as_name = func.__name__\n",
    "    bound_method = func.__get__(instance, instance.__class__)\n",
    "    setattr(instance, as_name, bound_method)\n",
    "    return bound_method\n"
   ]
  },
  {
   "cell_type": "code",
   "execution_count": 174,
   "metadata": {},
   "outputs": [],
   "source": [
    "class LoopControlerCallback(tf.keras.callbacks.Callback):\n",
    "    def __init__(self, config: int, *args, **kwargs) -> None:\n",
    "        super(LoopControlerCallback, self).__init__(*args, **kwargs)\n",
    "        self.config = config\n",
    "\n",
    "    def on_train_begin(self, logs=None):\n",
    "\n",
    "        # meta attributes for building conditions\n",
    "        self.epochs = 0\n",
    "        self.batches = 0\n",
    "        self.batches_in_epoch = 0\n",
    "        self.last_loss = 0.0\n",
    "        self.history = []\n",
    "\n",
    "        @tf.function\n",
    "        def train_step(self, data):\n",
    "            loss = {\"loss\" : tf.cond(\n",
    "                self.gate, lambda: self.gate_on(data), lambda: self.gate_off(data)\n",
    "            )}\n",
    "\n",
    "            metrics = {m.name : m.result() for m in self.metrics}\n",
    "            \n",
    "            control_states = {\n",
    "                    c_name: tf.cond(\n",
    "                        getattr(self, c_name),\n",
    "                        lambda: tf.constant(True),\n",
    "                        lambda: tf.constant(False),\n",
    "                    )\n",
    "                    for c_name in self.cv_names\n",
    "            }\n",
    "            \n",
    "            return {**loss, **metrics, **control_states}\n",
    "            \n",
    "        bind(self.model, train_step)\n",
    "        \n",
    "        self._init_cv()\n",
    "        self._bind_cv()\n",
    "\n",
    "        self._bind_train_branch(\"gate_on\", tf.keras.losses.MeanAbsoluteError())\n",
    "        self._bind_train_branch(\"gate_off\", tf.keras.losses.MeanSquaredError())\n",
    "\n",
    "\n",
    "\n",
    "    def _get_cv_name(self, action_name):\n",
    "        return f\"{action_name}_variable_control\"\n",
    "    \n",
    "    def _get_cc_names(self, condition_name):\n",
    "        return (f\"{condition_name}_off\", f\"{condition_name}_on\")\n",
    "\n",
    "    def _init_cv(self):\n",
    "        self.model.cv_names = []\n",
    "        for control_variable_name in self.config.keys():\n",
    "            setattr(\n",
    "                self.model, control_variable_name, tf.Variable(False, trainable=False)\n",
    "            )\n",
    "            self.model.cv_names.append(control_variable_name)\n",
    "\n",
    "    def _bind_cv(self):\n",
    "        self.c_conds = {}\n",
    "        for action_name, action_config in self.config.items():\n",
    "            name = self._get_cv_name(action_name)\n",
    "            bind(self, action_config[\"cond\"], name)\n",
    "            self.c_conds[action_name] = name\n",
    "\n",
    "    def _bind_train_branch(self, fn_name, loss):\n",
    "        lscope = locals()\n",
    "        function_body = f\"\"\"\n",
    "@tf.function\n",
    "def {fn_name}(self, data):\n",
    "   x, y = data\n",
    "   with tf.GradientTape(watch_accessed_variables=True) as tape:\n",
    "         logits = self(x, training=True)\n",
    "         loss_value = loss(y, logits)\n",
    "   grads = tape.gradient(loss_value, tape.watched_variables())\n",
    "   self.optimizer.apply_gradients(zip(grads, tape.watched_variables()))\n",
    "   self.compiled_metrics.update_state(y, logits)\n",
    "   return loss_value\n",
    "\"\"\"\n",
    "        exec(function_body, {**globals(), **lscope}, lscope)\n",
    "        bind(self.model, lscope[fn_name])\n",
    "        \n",
    "\n",
    "    def on_epoch_end(self, epoch, logs):\n",
    "        self.epochs += 1\n",
    "        \"\"\"Control gating variable from the level of callback which can work on epoch/batch level.\"\"\"\n",
    "        # tf.variable.assign is different than tf.variable = <sth>. The second option is compiled to static\n",
    "        # value in TF graph of computation as the result of @tf.function decorators in LoopControlableModel\n",
    "        for control_name, control_function_name in self.c_conds.items():\n",
    "            getattr(self.model, control_name).assign(\n",
    "                getattr(self, control_function_name)()\n",
    "            )\n",
    "\n",
    "    def on_batch_end(self, batch, logs=None):\n",
    "        self.batches += 1\n",
    "        \n"
   ]
  },
  {
   "cell_type": "code",
   "execution_count": 175,
   "metadata": {},
   "outputs": [
    {
     "name": "stdout",
     "output_type": "stream",
     "text": [
      "Epoch 1/6\n",
      "16/16 [==============================] - 1s 4ms/step - loss: 0.2009 - mae: 0.3571 - gate: 0.0000e+00\n",
      "Epoch 2/6\n",
      "16/16 [==============================] - 0s 4ms/step - loss: 0.1452 - mae: 0.3055 - gate: 0.0000e+00\n",
      "Epoch 3/6\n",
      "16/16 [==============================] - 0s 4ms/step - loss: 0.2855 - mae: 0.2842 - gate: 1.0000\n",
      "Epoch 4/6\n",
      "16/16 [==============================] - 0s 6ms/step - loss: 0.1068 - mae: 0.2697 - gate: 0.0000e+00\n",
      "Epoch 5/6\n",
      "16/16 [==============================] - 0s 3ms/step - loss: 0.2622 - mae: 0.2610 - gate: 1.0000\n",
      "Epoch 6/6\n",
      "16/16 [==============================] - 0s 7ms/step - loss: 0.0912 - mae: 0.2550 - gate: 0.0000e+00\n"
     ]
    }
   ],
   "source": [
    "DATASET_SIZE, INPUT_SIZE, OUTPUT_SIZE = 1000, 2, 1\n",
    "BATCH_SIZE = 64\n",
    "data = tf.data.Dataset.from_tensor_slices(\n",
    "    (tf.random.uniform((DATASET_SIZE, INPUT_SIZE)), tf.random.uniform((DATASET_SIZE, OUTPUT_SIZE)))\n",
    "    ).batch(BATCH_SIZE)\n",
    "\n",
    "\n",
    "model = tf.keras.Sequential([tf.keras.layers.Dense(OUTPUT_SIZE)])\n",
    "model.todel = tf.Variable(True)\n",
    "# compile model\n",
    "model.compile(optimizer=\n",
    "    tf.keras.optimizers.RMSprop(learning_rate=0.01),\n",
    "    loss=\"mse\", \n",
    "    metrics=[\"mae\"])\n",
    "\n",
    "\n",
    "def gate_config(self):\n",
    "    return self.epochs % 2 == 0 \n",
    "\n",
    "def delay_config(self):\n",
    "    return self.epochs % 4 == 0 \n",
    "\n",
    "\n",
    "config = {\n",
    "    \"gate\": {\n",
    "        \"cond\": gate_config,\n",
    "        True: {\n",
    "            \"loss\": tf.keras.losses.MeanSquaredError(), \n",
    "        },\n",
    "        False: {\n",
    "            \"loss\": tf.keras.losses.MeanAbsoluteError(), \n",
    "        }\n",
    "    }\n",
    "}\n",
    "\n",
    "lcc = LoopControlerCallback(config)\n",
    "# start training\n",
    "history = model.fit(data, epochs = 6, verbose = 1,\n",
    "    callbacks=[lcc])"
   ]
  },
  {
   "cell_type": "code",
   "execution_count": 176,
   "metadata": {},
   "outputs": [
    {
     "name": "stdout",
     "output_type": "stream",
     "text": [
      "tf.Tensor(2, shape=(), dtype=int32)\n",
      "2\n"
     ]
    },
    {
     "data": {
      "text/plain": [
       "True"
      ]
     },
     "execution_count": 176,
     "metadata": {},
     "output_type": "execute_result"
    }
   ],
   "source": [
    "import time\n",
    "class B:\n",
    "    def __init__(self) -> None:\n",
    "        self.x = 2\n",
    "    \n",
    "    def boo(self):\n",
    "        \n",
    "        bb = tf.keras.losses.MeanAbsoluteError()\n",
    "        adict = locals()\n",
    "        # print(adict)\n",
    "        function_body = f\"\"\"\n",
    "def train(self):\n",
    "    print(bb([1,2,3], [3,4,5]))\n",
    "    return self.x\n",
    "\"\"\"\n",
    "        exec(function_body,{**globals(), **adict}, adict)\n",
    "        # print(adict)\n",
    "        # time.sleep(0.1)\n",
    "        bind(self, adict[\"train\"])\n",
    "        print(self.train())\n",
    "        # bind(self, test3)\n",
    "        # bind(self, test)\n",
    "        return True\n",
    "\n",
    "b = B()\n",
    "b.boo()\n",
    "# self.train_substep()"
   ]
  },
  {
   "cell_type": "code",
   "execution_count": null,
   "metadata": {},
   "outputs": [],
   "source": []
  }
 ],
 "metadata": {
  "kernelspec": {
   "display_name": "venv",
   "language": "python",
   "name": "python3"
  },
  "language_info": {
   "codemirror_mode": {
    "name": "ipython",
    "version": 3
   },
   "file_extension": ".py",
   "mimetype": "text/x-python",
   "name": "python",
   "nbconvert_exporter": "python",
   "pygments_lexer": "ipython3",
   "version": "3.8.10"
  },
  "orig_nbformat": 4,
  "vscode": {
   "interpreter": {
    "hash": "c6b4ff1917ad7fe489d902c3041fcac2959f3e2431a3acc02677f15f306757aa"
   }
  }
 },
 "nbformat": 4,
 "nbformat_minor": 2
}
