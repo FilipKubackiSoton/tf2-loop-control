{
 "cells": [
  {
   "attachments": {},
   "cell_type": "markdown",
   "metadata": {},
   "source": [
    "## TensorFlow2 training loop control using default *tf.fit(...)* function"
   ]
  },
  {
   "attachments": {},
   "cell_type": "markdown",
   "metadata": {},
   "source": [
    "### Task Descripton\n",
    "\n",
    "Up to now custom training loop in Tensorflow2 requires writing two lops:\n",
    "1. loop iterating through epochs \n",
    "2. loop iterating through batches \n",
    "\n",
    "Then all castom training precudere will have to be implemented in these double-loop block of code. It's neither elegant nor robust due to the missing advanced features of *tf.fit(...)*."
   ]
  },
  {
   "cell_type": "code",
   "execution_count": 2,
   "metadata": {},
   "outputs": [],
   "source": [
    "import tensorflow as tf\n",
    "from types import MethodType\n"
   ]
  },
  {
   "cell_type": "code",
   "execution_count": 3,
   "metadata": {},
   "outputs": [],
   "source": [
    "class LCModel(tf.keras.Model):\n",
    "    def __init__(self, variables, *args, **kwargs):\n",
    "        super(LCModel, self).__init__(*args, **kwargs)\n",
    "        for name, value in variables.items():\n",
    "            setattr(self, name, tf.Variable(value, trainable=False))\n",
    "    \n",
    "\n",
    "# lcm = LCModel({\"gating\": {\n",
    "#     \"init_value\": False,\n",
    "#     \"loss_fn\": tf.keras.losses.MeanAbsoluteError, \n",
    "#     \"freq_epoch\" : 2,\n",
    "#     \"delay_epoch\" : 10,\n",
    "#     \"freq_step\" : 2,\n",
    "#     \"delay_step\" : 10,\n",
    "#     \"cond\" : functool.partials()\n",
    "#     \"var\" : \n",
    "#     \"clipping\" : [0.1, 0.2]\n",
    "# }})\n"
   ]
  },
  {
   "cell_type": "code",
   "execution_count": 4,
   "metadata": {},
   "outputs": [],
   "source": [
    "class LoopControlableModel(tf.keras.Model):\n",
    "\n",
    "    def __init__(self, *args, **kwargs):\n",
    "        super(LoopControlableModel, self).__init__(*args, **kwargs)\n",
    "        self.gate = tf.Variable(False, trainable=False) # gate control variable\n",
    "    \n",
    "    @tf.function\n",
    "    def train_step(self, data):\n",
    "        train_metrics = tf.cond(\n",
    "            self.gate, \n",
    "            lambda: self.train_step_active(data),\n",
    "            lambda: self.train_step_passive(data)\n",
    "        )\n",
    "\n",
    "        return train_metrics\n",
    "\n",
    "    @tf.function\n",
    "    def train_step_active(self, data):\n",
    "        x, y = data\n",
    "        with tf.GradientTape(watch_accessed_variables=True) as tape:\n",
    "            logits = self(x, training=True)\n",
    "            loss_value = self.compiled_loss(y, logits)\n",
    "        grads = tape.gradient(loss_value, tape.watched_variables())\n",
    "        self.optimizer.apply_gradients(zip(grads, tape.watched_variables()))\n",
    "        return {**{m.name: m.result() for m in self.metrics}, **{\"active\": True, \"passive\": False}}\n",
    "\n",
    "    @tf.function\n",
    "    def train_step_passive(self, data):\n",
    "        x, y = data\n",
    "        with tf.GradientTape(watch_accessed_variables=True) as tape:\n",
    "            logits = self(x, training=True)\n",
    "            loss_value = self.compiled_loss(y, logits)\n",
    "        grads = tape.gradient(loss_value, tape.watched_variables())\n",
    "        self.optimizer.apply_gradients(zip(grads, tape.watched_variables()))\n",
    "        return {**{m.name: m.result() for m in self.metrics}, **{\"active\": False, \"passive\": True}}\n",
    "    "
   ]
  },
  {
   "cell_type": "code",
   "execution_count": 5,
   "metadata": {},
   "outputs": [],
   "source": [
    "class LoopControlerCallback(tf.keras.callbacks.Callback):\n",
    "\n",
    "    def __init__(self, gating_frequency: int, *args, **kwargs) -> None:\n",
    "        super(LoopControlerCallback, self).__init__(*args, **kwargs)\n",
    "        self.gating_frequency = gating_frequency\n",
    "\n",
    "    def on_train_begin(self, logs = None):\n",
    "        tf.print(self.model.to_json())\n",
    "\n",
    "\n",
    "    def on_epoch_end(self, epoch, logs):\n",
    "        \"\"\"Control gating variable from the level of callback which can work on epoch/batch level.\"\"\"\n",
    "        # tf.variable.assign is different than tf.variable = <sth>. The second option is compiled to static\n",
    "        # value in TF graph of computation as the result of @tf.function decorators in LoopControlableModel\n",
    "        self.model.gate.assign(epoch % self.gating_frequency ==0)"
   ]
  },
  {
   "cell_type": "code",
   "execution_count": 6,
   "metadata": {},
   "outputs": [],
   "source": [
    "class LoopControledModel(LoopControlableModel):\n",
    "\n",
    "    def __init__(self, output_size, *args, **kwargs):\n",
    "        super(LoopControledModel, self).__init__(*args, **kwargs)\n",
    "        # define architecture of the model\n",
    "        self.layer = tf.keras.layers.Dense(output_size)\n",
    "        \n",
    "    def call(self, inputs):\n",
    "        return self.layer(inputs)"
   ]
  },
  {
   "cell_type": "code",
   "execution_count": 7,
   "metadata": {},
   "outputs": [
    {
     "name": "stderr",
     "output_type": "stream",
     "text": [
      "2023-01-27 14:13:56.849956: W tensorflow/stream_executor/platform/default/dso_loader.cc:64] Could not load dynamic library 'libcuda.so.1'; dlerror: libcuda.so.1: cannot open shared object file: No such file or directory\n",
      "2023-01-27 14:13:56.850022: W tensorflow/stream_executor/cuda/cuda_driver.cc:269] failed call to cuInit: UNKNOWN ERROR (303)\n",
      "2023-01-27 14:13:56.850074: I tensorflow/stream_executor/cuda/cuda_diagnostics.cc:156] kernel driver does not appear to be running on this host (filip-HP-ProBook-440-G3): /proc/driver/nvidia/version does not exist\n",
      "2023-01-27 14:13:56.853177: I tensorflow/core/platform/cpu_feature_guard.cc:193] This TensorFlow binary is optimized with oneAPI Deep Neural Network Library (oneDNN) to use the following CPU instructions in performance-critical operations:  AVX2 FMA\n",
      "To enable them in other operations, rebuild TensorFlow with the appropriate compiler flags.\n"
     ]
    }
   ],
   "source": [
    "DATASET_SIZE, INPUT_SIZE, OUTPUT_SIZE = 1000, 2, 1\n",
    "BATCH_SIZE = 64\n",
    "data = tf.data.Dataset.from_tensor_slices(\n",
    "    (tf.random.uniform((DATASET_SIZE, INPUT_SIZE)), tf.random.uniform((DATASET_SIZE, OUTPUT_SIZE)))\n",
    "    ).batch(BATCH_SIZE)\n"
   ]
  },
  {
   "cell_type": "code",
   "execution_count": 14,
   "metadata": {},
   "outputs": [
    {
     "name": "stdout",
     "output_type": "stream",
     "text": [
      "{\"class_name\": \"LoopControledModel\", \"config\": {}, \"keras_version\": \"2.9.0\", \"backend\": \"tensorflow\"}\n",
      "Epoch 1/10\n",
      "16/16 [==============================] - 1s 3ms/step - loss: 0.9889 - active: 0.0000e+00 - passive: 1.0000\n",
      "Epoch 2/10\n",
      "16/16 [==============================] - 0s 4ms/step - loss: 0.5025 - active: 1.0000 - passive: 0.0000e+00\n",
      "Epoch 3/10\n",
      "16/16 [==============================] - 0s 5ms/step - loss: 0.2828 - active: 0.0000e+00 - passive: 1.0000\n",
      "Epoch 4/10\n",
      "16/16 [==============================] - 0s 4ms/step - loss: 0.1902 - active: 1.0000 - passive: 0.0000e+00\n",
      "Epoch 5/10\n",
      "16/16 [==============================] - 0s 6ms/step - loss: 0.1562 - active: 0.0000e+00 - passive: 1.0000\n",
      "Epoch 6/10\n",
      "16/16 [==============================] - 0s 5ms/step - loss: 0.1334 - active: 1.0000 - passive: 0.0000e+00\n",
      "Epoch 7/10\n",
      "16/16 [==============================] - 0s 6ms/step - loss: 0.1148 - active: 0.0000e+00 - passive: 1.0000\n",
      "Epoch 8/10\n",
      "16/16 [==============================] - 0s 5ms/step - loss: 0.1010 - active: 1.0000 - passive: 0.0000e+00\n",
      "Epoch 9/10\n",
      "16/16 [==============================] - 0s 4ms/step - loss: 0.0919 - active: 0.0000e+00 - passive: 1.0000\n",
      "Epoch 10/10\n",
      "16/16 [==============================] - 0s 3ms/step - loss: 0.0866 - active: 1.0000 - passive: 0.0000e+00\n"
     ]
    }
   ],
   "source": [
    "model = LoopControledModel(OUTPUT_SIZE)\n",
    "\n",
    "# compile model\n",
    "model.compile(optimizer=\n",
    "    tf.keras.optimizers.RMSprop(learning_rate=0.01),\n",
    "    loss=\"mse\", \n",
    "    metrics=[\"mae\"])\n",
    "\n",
    "# start training\n",
    "history = model.fit(data, epochs = 10, verbose = 1,\n",
    "    callbacks=[LoopControlerCallback(2)])"
   ]
  },
  {
   "cell_type": "code",
   "execution_count": 23,
   "metadata": {},
   "outputs": [
    {
     "name": "stdout",
     "output_type": "stream",
     "text": [
      "1\n",
      "2\n",
      "a: 4\n",
      "b: 5\n"
     ]
    }
   ],
   "source": [
    "import functools\n",
    "\n",
    "class A:\n",
    "    def __init__(self) -> None:\n",
    "        self.x = 1\n",
    "        self.y = 2\n",
    "\n",
    "a = A()\n",
    "\n",
    "def assign_to_instance(instance):\n",
    "    def decorator_assign_to_instance(func):\n",
    "        @functools.wraps(func)\n",
    "        def wrapper_assign_to_instance(*args, **kwargs):\n",
    "            args = (instance,) + args\n",
    "            setattr(instance, func.__name__, functools.partial(func, *args, **kwargs))\n",
    "            return \n",
    "        return wrapper_assign_to_instance\n",
    "    return decorator_assign_to_instance\n",
    "\n",
    "@assign_to_instance(a)\n",
    "def train(self, a, b):\n",
    "    print(self.x)\n",
    "    print(self.y)\n",
    "    print(f\"a: {a}\")\n",
    "    print(f\"b: {b}\")\n",
    "\n",
    "train()\n",
    "a.train(4, 5)\n"
   ]
  },
  {
   "cell_type": "code",
   "execution_count": null,
   "metadata": {},
   "outputs": [],
   "source": []
  }
 ],
 "metadata": {
  "kernelspec": {
   "display_name": "venv",
   "language": "python",
   "name": "python3"
  },
  "language_info": {
   "codemirror_mode": {
    "name": "ipython",
    "version": 3
   },
   "file_extension": ".py",
   "mimetype": "text/x-python",
   "name": "python",
   "nbconvert_exporter": "python",
   "pygments_lexer": "ipython3",
   "version": "3.8.10"
  },
  "orig_nbformat": 4,
  "vscode": {
   "interpreter": {
    "hash": "c6b4ff1917ad7fe489d902c3041fcac2959f3e2431a3acc02677f15f306757aa"
   }
  }
 },
 "nbformat": 4,
 "nbformat_minor": 2
}
