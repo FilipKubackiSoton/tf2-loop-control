{
 "cells": [
  {
   "attachments": {},
   "cell_type": "markdown",
   "metadata": {},
   "source": [
    "## TensorFlow2 training loop control using default *tf.fit(...)* function"
   ]
  },
  {
   "attachments": {},
   "cell_type": "markdown",
   "metadata": {},
   "source": [
    "### Task Descripton\n",
    "\n",
    "Up to now custom training loop in Tensorflow2 requires writing two lops:\n",
    "1. loop iterating through epochs \n",
    "2. loop iterating through batches \n",
    "\n",
    "Then all castom training precudere will have to be implemented in these double-loop block of code. It's neither elegant nor robust due to the missing advanced features of *tf.fit(...)*."
   ]
  },
  {
   "cell_type": "code",
   "execution_count": 2,
   "metadata": {},
   "outputs": [
    {
     "name": "stderr",
     "output_type": "stream",
     "text": [
      "2023-01-04 09:50:45.340284: W tensorflow/stream_executor/platform/default/dso_loader.cc:64] Could not load dynamic library 'libcudart.so.11.0'; dlerror: libcudart.so.11.0: cannot open shared object file: No such file or directory\n",
      "2023-01-04 09:50:45.340323: I tensorflow/stream_executor/cuda/cudart_stub.cc:29] Ignore above cudart dlerror if you do not have a GPU set up on your machine.\n"
     ]
    }
   ],
   "source": [
    "import tensorflow as tf"
   ]
  },
  {
   "cell_type": "code",
   "execution_count": 25,
   "metadata": {},
   "outputs": [],
   "source": [
    "class LoopControlableModel(tf.keras.Model):\n",
    "\n",
    "    def __init__(self, *args, **kwargs):\n",
    "        super(LoopControlableModel, self).__init__(*args, **kwargs)\n",
    "        self.gate = tf.Variable(False, trainable=False) # gate control variable\n",
    "    \n",
    "    @tf.function\n",
    "    def train_step(self, data):\n",
    "        train_metrics = tf.cond(\n",
    "            self.gate, \n",
    "            lambda: self.train_step_active(data),\n",
    "            lambda: self.train_step_passive(data)\n",
    "        )\n",
    "\n",
    "        return train_metrics\n",
    "\n",
    "    @tf.function\n",
    "    def train_step_active(self, data):\n",
    "        x, y = data\n",
    "        with tf.GradientTape(watch_accessed_variables=True) as tape:\n",
    "            logits = self(x, training=True)\n",
    "            loss_value = self.compiled_loss(y, logits)\n",
    "        grads = tape.gradient(loss_value, tape.watched_variables())\n",
    "        self.optimizer.apply_gradients(zip(grads, tape.watched_variables()))\n",
    "        return {**{m.name: m.result() for m in self.metrics}, **{\"active\": True, \"passive\": False}}\n",
    "\n",
    "    @tf.function\n",
    "    def train_step_passive(self, data):\n",
    "        x, y = data\n",
    "        with tf.GradientTape(watch_accessed_variables=True) as tape:\n",
    "            logits = self(x, training=True)\n",
    "            loss_value = self.compiled_loss(y, logits)\n",
    "        grads = tape.gradient(loss_value, tape.watched_variables())\n",
    "        self.optimizer.apply_gradients(zip(grads, tape.watched_variables()))\n",
    "        return {**{m.name: m.result() for m in self.metrics}, **{\"active\": False, \"passive\": True}}\n",
    "    "
   ]
  },
  {
   "cell_type": "code",
   "execution_count": 26,
   "metadata": {},
   "outputs": [],
   "source": [
    "class LoopControlerCallback(tf.keras.callbacks.Callback):\n",
    "\n",
    "    def __init__(self, gating_frequency: int, *args, **kwargs) -> None:\n",
    "        super(LoopControlerCallback, self).__init__(*args, **kwargs)\n",
    "        self.gating_frequency = gating_frequency\n",
    "\n",
    "    def on_epoch_end(self, epoch, logs):\n",
    "        \"\"\"Control gating variable from the level of callback which can work on epoch/batch level.\"\"\"\n",
    "        # tf.variable.assign is different than tf.variable = <sth>. The second option is compiled to static\n",
    "        # value in TF graph of computation as the result of @tf.function decorators in LoopControlableModel\n",
    "        self.model.gate.assign(epoch % self.gating_frequency ==0)"
   ]
  },
  {
   "cell_type": "code",
   "execution_count": 27,
   "metadata": {},
   "outputs": [],
   "source": [
    "class LoopControledModel(LoopControlableModel):\n",
    "\n",
    "    def __init__(self, output_size, *args, **kwargs):\n",
    "        super(LoopControledModel, self).__init__(*args, **kwargs)\n",
    "        # define architecture of the model\n",
    "        self.layer = tf.keras.layers.Dense(output_size)\n",
    "        \n",
    "    def call(self, inputs):\n",
    "        return self.layer(inputs)"
   ]
  },
  {
   "cell_type": "code",
   "execution_count": 28,
   "metadata": {},
   "outputs": [],
   "source": [
    "DATASET_SIZE, INPUT_SIZE, OUTPUT_SIZE = 1000, 2, 1\n",
    "BATCH_SIZE = 64\n",
    "data = tf.data.Dataset.from_tensor_slices(\n",
    "    (tf.random.uniform((DATASET_SIZE, INPUT_SIZE)), tf.random.uniform((DATASET_SIZE, OUTPUT_SIZE)))\n",
    "    ).batch(BATCH_SIZE)\n"
   ]
  },
  {
   "cell_type": "code",
   "execution_count": 29,
   "metadata": {},
   "outputs": [
    {
     "name": "stdout",
     "output_type": "stream",
     "text": [
      "Epoch 1/10\n",
      "16/16 [==============================] - 1s 2ms/step - loss: 0.1328 - active: 0.0000e+00 - passive: 1.0000\n",
      "Epoch 2/10\n",
      "16/16 [==============================] - 0s 3ms/step - loss: 0.1042 - active: 1.0000 - passive: 0.0000e+00\n",
      "Epoch 3/10\n",
      "16/16 [==============================] - 0s 2ms/step - loss: 0.0980 - active: 0.0000e+00 - passive: 1.0000\n",
      "Epoch 4/10\n",
      "16/16 [==============================] - 0s 3ms/step - loss: 0.0933 - active: 1.0000 - passive: 0.0000e+00\n",
      "Epoch 5/10\n",
      "16/16 [==============================] - 0s 3ms/step - loss: 0.0902 - active: 0.0000e+00 - passive: 1.0000\n",
      "Epoch 6/10\n",
      "16/16 [==============================] - 0s 3ms/step - loss: 0.0881 - active: 1.0000 - passive: 0.0000e+00\n",
      "Epoch 7/10\n",
      "16/16 [==============================] - 0s 3ms/step - loss: 0.0868 - active: 0.0000e+00 - passive: 1.0000\n",
      "Epoch 8/10\n",
      "16/16 [==============================] - 0s 3ms/step - loss: 0.0860 - active: 1.0000 - passive: 0.0000e+00\n",
      "Epoch 9/10\n",
      "16/16 [==============================] - 0s 3ms/step - loss: 0.0856 - active: 0.0000e+00 - passive: 1.0000\n",
      "Epoch 10/10\n",
      "16/16 [==============================] - 0s 3ms/step - loss: 0.0853 - active: 1.0000 - passive: 0.0000e+00\n"
     ]
    }
   ],
   "source": [
    "model = LoopControledModel(OUTPUT_SIZE)\n",
    "\n",
    "# compile model\n",
    "model.compile(optimizer=\n",
    "    tf.keras.optimizers.RMSprop(learning_rate=0.01),\n",
    "    loss=\"mse\", \n",
    "    metrics=[\"mae\"])\n",
    "\n",
    "# start training\n",
    "history = model.fit(data, epochs = 10, verbose = 1,\n",
    "    callbacks=[LoopControlerCallback(2)])"
   ]
  },
  {
   "cell_type": "code",
   "execution_count": null,
   "metadata": {},
   "outputs": [],
   "source": []
  }
 ],
 "metadata": {
  "kernelspec": {
   "display_name": "venv",
   "language": "python",
   "name": "python3"
  },
  "language_info": {
   "codemirror_mode": {
    "name": "ipython",
    "version": 3
   },
   "file_extension": ".py",
   "mimetype": "text/x-python",
   "name": "python",
   "nbconvert_exporter": "python",
   "pygments_lexer": "ipython3",
   "version": "3.8.10"
  },
  "orig_nbformat": 4,
  "vscode": {
   "interpreter": {
    "hash": "99b15cb6107b0b495b17a85b55d21f2ba642084aff95f5e6b9621ef13b3a13bf"
   }
  }
 },
 "nbformat": 4,
 "nbformat_minor": 2
}
